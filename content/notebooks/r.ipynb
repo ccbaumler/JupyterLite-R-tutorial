{
 "cells": [
  {
   "cell_type": "markdown",
   "metadata": {},
   "source": [
    "# XEUS-R"
   ]
  },
  {
   "cell_type": "code",
   "execution_count": 1,
   "metadata": {
    "vscode": {
     "languageId": "r"
    }
   },
   "outputs": [
    {
     "data": {
      "text/plain": [
       "               _                           \n",
       "platform       x86_64-pc-linux-gnu         \n",
       "arch           x86_64                      \n",
       "os             linux-gnu                   \n",
       "system         x86_64, linux-gnu           \n",
       "status                                     \n",
       "major          4                           \n",
       "minor          5.0                         \n",
       "year           2025                        \n",
       "month          04                          \n",
       "day            11                          \n",
       "svn rev        88135                       \n",
       "language       R                           \n",
       "version.string R version 4.5.0 (2025-04-11)\n",
       "nickname       How About a Twenty-Six      "
      ]
     },
     "metadata": {},
     "output_type": "display_data"
    }
   ],
   "source": [
    "R.version"
   ]
  },
  {
   "cell_type": "markdown",
   "metadata": {},
   "source": [
    "## Internal packages"
   ]
  },
  {
   "cell_type": "code",
   "execution_count": 2,
   "metadata": {
    "vscode": {
     "languageId": "r"
    }
   },
   "outputs": [
    {
     "data": {
      "text/plain": [
       "\n",
       "Call:\n",
       "lm(formula = y ~ x)\n",
       "\n",
       "Residuals:\n",
       "    Min      1Q  Median      3Q     Max \n",
       "-1.9073 -0.6835 -0.0875  0.5806  3.2904 \n",
       "\n",
       "Coefficients:\n",
       "            Estimate Std. Error t value Pr(>|t|)    \n",
       "(Intercept) -0.10280    0.09755  -1.054    0.295    \n",
       "x            1.94753    0.10688  18.222   <2e-16 ***\n",
       "---\n",
       "Signif. codes:  0 ‘***’ 0.001 ‘**’ 0.01 ‘*’ 0.05 ‘.’ 0.1 ‘ ’ 1\n",
       "\n",
       "Residual standard error: 0.9707 on 98 degrees of freedom\n",
       "Multiple R-squared:  0.7721,\tAdjusted R-squared:  0.7698 \n",
       "F-statistic:   332 on 1 and 98 DF,  p-value: < 2.2e-16\n"
      ]
     },
     "metadata": {},
     "output_type": "display_data"
    }
   ],
   "source": [
    "library(stats)\n",
    "\n",
    "set.seed(123)\n",
    "x <- rnorm(100)\n",
    "y <- 2 * x + rnorm(100)\n",
    "\n",
    "# Linear regression\n",
    "model <- lm(y ~ x)\n",
    "summary(model)"
   ]
  },
  {
   "cell_type": "code",
   "execution_count": 3,
   "metadata": {
    "vscode": {
     "languageId": "r"
    }
   },
   "outputs": [
    {
     "name": "stdout",
     "output_type": "stream",
     "text": [
      "$d\n",
      "[1] 9.5080320 0.7728696\n",
      "\n",
      "$u\n",
      "           [,1]       [,2]\n",
      "[1,] -0.4286671  0.8059639\n",
      "[2,] -0.5663069  0.1123824\n",
      "[3,] -0.7039467 -0.5811991\n",
      "\n",
      "$vt\n",
      "           [,1]       [,2]\n",
      "[1,] -0.3863177 -0.9223658\n",
      "[2,] -0.9223658  0.3863177\n",
      "\n"
     ]
    }
   ],
   "source": [
    "A <- matrix(c(1, 2, 3, 4, 5, 6), nrow = 3, ncol = 2)\n",
    "\n",
    "# Singular value decomposition\n",
    "svd_result <- La.svd(A)\n",
    "\n",
    "print(svd_result)"
   ]
  },
  {
   "cell_type": "code",
   "execution_count": 4,
   "metadata": {
    "vscode": {
     "languageId": "r"
    }
   },
   "outputs": [
    {
     "name": "stdout",
     "output_type": "stream",
     "text": [
      "[1] 4.618034 2.381966\n",
      "           [,1]       [,2]\n",
      "[1,] -0.8506508  0.5257311\n",
      "[2,] -0.5257311 -0.8506508\n"
     ]
    }
   ],
   "source": [
    "A <- matrix(c(4, 1, 1, 3), nrow = 2, byrow = TRUE)\n",
    "\n",
    "# Eigen decomposition\n",
    "eigen_result <- eigen(A)\n",
    "\n",
    "print(eigen_result$values)\n",
    "\n",
    "print(eigen_result$vectors)"
   ]
  },
  {
   "cell_type": "code",
   "execution_count": 5,
   "metadata": {
    "vscode": {
     "languageId": "r"
    }
   },
   "outputs": [
    {
     "name": "stdout",
     "output_type": "stream",
     "text": [
      "     [,1]     [,2]\n",
      "[1,]    2 0.500000\n",
      "[2,]    0 1.658312\n"
     ]
    }
   ],
   "source": [
    "# Example positive-definite matrix\n",
    "A <- matrix(c(4, 1, 1, 3), nrow = 2, byrow = TRUE)\n",
    "\n",
    "# Cholesky decomposition\n",
    "chol_result <- chol(A)\n",
    "\n",
    "print(chol_result)"
   ]
  },
  {
   "cell_type": "code",
   "execution_count": 6,
   "metadata": {
    "vscode": {
     "languageId": "r"
    }
   },
   "outputs": [
    {
     "name": "stdout",
     "output_type": "stream",
     "text": [
      "     [,1] [,2]\n",
      "[1,]   50   68\n",
      "[2,]  122  167\n"
     ]
    }
   ],
   "source": [
    "B <- matrix(c(1, 2, 3, 4, 5, 6), nrow = 3, ncol = 2)\n",
    "C <- matrix(c(7, 8, 9, 10, 11, 12), nrow = 3, ncol = 2)\n",
    "\n",
    "# Perform matrix multiplication using BLAS\n",
    "result <- crossprod(B, C)\n",
    "\n",
    "print(result)"
   ]
  },
  {
   "cell_type": "code",
   "execution_count": 7,
   "metadata": {
    "vscode": {
     "languageId": "r"
    }
   },
   "outputs": [
    {
     "name": "stdout",
     "output_type": "stream",
     "text": [
      "0 \n",
      "1 \n",
      "1 \n",
      "2 \n",
      "3 \n",
      "5 \n",
      "8 \n",
      "13 \n",
      "21 \n",
      "34 \n"
     ]
    },
    {
     "data": {
      "text/html": [
       "55"
      ],
      "text/latex": [
       "55"
      ],
      "text/markdown": [
       "55"
      ],
      "text/plain": [
       "[1] 55"
      ]
     },
     "metadata": {},
     "output_type": "display_data"
    }
   ],
   "source": [
    "# Fibonacci sequence\n",
    "fibonacci_loop <- function(n) {\n",
    "    a <- 0\n",
    "    b <- 1\n",
    "\n",
    "    for (i in 1:n) {\n",
    "        fib <- a\n",
    "        cat(fib, \"\\n\")\n",
    "        a <- b\n",
    "        b <- fib + b\n",
    "    }\n",
    "    return(a)\n",
    "}\n",
    "\n",
    "fibonacci_loop(10)"
   ]
  },
  {
   "cell_type": "markdown",
   "metadata": {},
   "source": [
    "## Plotting"
   ]
  },
  {
   "cell_type": "markdown",
   "metadata": {},
   "source": [
    "Some of the following R Code was pulled from https://www.statmethods.net/advgraphs/ggplot2.html, and updated to use newer `ggplot2` APIs."
   ]
  },
  {
   "cell_type": "code",
   "execution_count": null,
   "metadata": {
    "vscode": {
     "languageId": "r"
    }
   },
   "outputs": [],
   "source": [
    "# ggplot2 examples\n",
    "library(ggplot2)"
   ]
  },
  {
   "cell_type": "code",
   "execution_count": null,
   "metadata": {
    "vscode": {
     "languageId": "r"
    }
   },
   "outputs": [],
   "source": [
    "# create factors with value labels\n",
    "mtcars$gear <- factor(mtcars$gear,levels=c(3,4,5),\n",
    "  \tlabels=c(\"3gears\",\"4gears\",\"5gears\"))\n",
    "mtcars$am <- factor(mtcars$am,levels=c(0,1),\n",
    "  \tlabels=c(\"Automatic\",\"Manual\"))\n",
    "mtcars$cyl <- factor(mtcars$cyl,levels=c(4,6,8),\n",
    "   labels=c(\"4cyl\",\"6cyl\",\"8cyl\"))"
   ]
  },
  {
   "cell_type": "code",
   "execution_count": null,
   "metadata": {
    "vscode": {
     "languageId": "r"
    }
   },
   "outputs": [],
   "source": [
    "# Kernel density plots for mpg\n",
    "# grouped by number of gears (indicated by color)\n",
    "ggplot(mtcars, aes(x = mpg, fill = gear)) +\n",
    "  geom_density(alpha = 0.5) +\n",
    "  labs(\n",
    "    title = \"Distribution of Gas Milage\",\n",
    "    x = \"Miles Per Gallon\",\n",
    "    y = \"Density\",\n",
    "    fill = \"Gears\"\n",
    "  )"
   ]
  },
  {
   "cell_type": "code",
   "execution_count": null,
   "metadata": {
    "vscode": {
     "languageId": "r"
    }
   },
   "outputs": [],
   "source": [
    "# Scatterplot of mpg vs. hp for each combination of gears and cylinders\n",
    "# in each facet, transmission type is represented by shape and color\n",
    "ggplot(mtcars, aes(x = hp, y = mpg, shape = am, color = am)) +\n",
    "  geom_point(size = 3) +\n",
    "  facet_grid(gear ~ cyl) +\n",
    "  labs(\n",
    "    x = \"Horsepower\",\n",
    "    y = \"Miles per Gallon\",\n",
    "    shape = \"Transmission\",\n",
    "    color = \"Transmission\"\n",
    "  )"
   ]
  },
  {
   "cell_type": "code",
   "execution_count": null,
   "metadata": {
    "vscode": {
     "languageId": "r"
    }
   },
   "outputs": [],
   "source": [
    "# Separate regressions of mpg on weight for each number of cylinders\n",
    "ggplot(mtcars, aes(x = wt, y = mpg, color = cyl)) +\n",
    "  geom_point() +\n",
    "  geom_smooth(method = \"lm\", formula = y ~ x) +\n",
    "  labs(\n",
    "    title = \"Regression of MPG on Weight\",\n",
    "    x = \"Weight\",\n",
    "    y = \"Miles per Gallon\",\n",
    "    color = \"Cylinders\"\n",
    "  )"
   ]
  },
  {
   "cell_type": "code",
   "execution_count": null,
   "metadata": {
    "vscode": {
     "languageId": "r"
    }
   },
   "outputs": [],
   "source": [
    "# Boxplots of mpg by number of gears\n",
    "# observations (points) are overlayed and jittered\n",
    "ggplot(mtcars, aes(x = gear, y = mpg, fill = gear)) +\n",
    "  geom_boxplot() +\n",
    "  geom_jitter(width = 0.2) +\n",
    "  labs(\n",
    "    title = \"Mileage by Gear Number\",\n",
    "    x = \"\",\n",
    "    y = \"Miles per Gallon\",\n",
    "    fill = \"Gears\"\n",
    "  )"
   ]
  },
  {
   "cell_type": "markdown",
   "metadata": {
    "vscode": {
     "languageId": "plaintext"
    }
   },
   "source": [
    "## Other R Packages"
   ]
  },
  {
   "cell_type": "code",
   "execution_count": null,
   "metadata": {
    "vscode": {
     "languageId": "r"
    }
   },
   "outputs": [],
   "source": [
    "library(RColorBrewer)\n",
    "palette <- brewer.pal(8, \"Set3\")\n",
    "print(palette)"
   ]
  },
  {
   "cell_type": "code",
   "execution_count": null,
   "metadata": {
    "vscode": {
     "languageId": "r"
    }
   },
   "outputs": [],
   "source": [
    "library(crayon)\n",
    "\n",
    "# Create colorful text\n",
    "red_text <- red(\"This is red text\")\n",
    "green_text <- green(\"This is green text\")\n",
    "blue_text <- blue(\"This is blue text\")\n",
    "bold_text <- bold(\"This is bold text\")\n",
    "underline_text <- underline(\"This is underlined text\")\n",
    "\n",
    "cat(red_text, \"\\n\")\n",
    "cat(green_text, \"\\n\")\n",
    "cat(blue_text, \"\\n\")\n",
    "cat(bold_text, \"\\n\")\n",
    "cat(underline_text, \"\\n\")"
   ]
  },
  {
   "cell_type": "code",
   "execution_count": null,
   "metadata": {
    "vscode": {
     "languageId": "r"
    }
   },
   "outputs": [],
   "source": [
    "library(htmltools)\n",
    "\n",
    "# Create HMTL elements\n",
    "title <- tags$title(\"My HTML Page\")\n",
    "header <- tags$h1(\"Hello there!\")\n",
    "paragraph <- tags$p(\"This is a paragraph created using htmltools.\")\n",
    "list_items <- tags$ul(tags$li(\"Item 1\"), tags$li(\"Item 2\"), tags$li(\"Item 3\"))\n",
    "\n",
    "# Combine elements into an HTML document\n",
    "html_doc <- tags$html(\n",
    "    tags$head(title),\n",
    "    tags$body(\n",
    "        header,\n",
    "        paragraph,\n",
    "        list_items\n",
    "    )\n",
    ")\n",
    "\n",
    "print(html_doc)"
   ]
  },
  {
   "cell_type": "code",
   "execution_count": null,
   "metadata": {
    "vscode": {
     "languageId": "r"
    }
   },
   "outputs": [],
   "source": [
    "library(farver)\n",
    "\n",
    "# Define a color in RBG space\n",
    "rgb_color <- matrix(c(255, 0, 0), ncol = 3)\n",
    "\n",
    "# Convert RGB to HSV\n",
    "hsv_color <- convert_colour(rgb_color, \"rgb\", \"hsv\")\n",
    "\n",
    "# Convert RGB to LAB\n",
    "lab_color <- convert_colour(rgb_color, \"rgb\", \"lab\")\n",
    "\n",
    "print(rgb_color)\n",
    "print(hsv_color)\n",
    "print(lab_color)"
   ]
  },
  {
   "cell_type": "code",
   "execution_count": null,
   "metadata": {
    "vscode": {
     "languageId": "r"
    }
   },
   "outputs": [],
   "source": []
  },
  {
   "cell_type": "code",
   "execution_count": null,
   "metadata": {},
   "outputs": [],
   "source": []
  }
 ],
 "metadata": {
  "kernelspec": {
   "display_name": "R",
   "language": "R",
   "name": "ir"
  },
  "language_info": {
   "codemirror_mode": "r",
   "file_extension": ".r",
   "mimetype": "text/x-r-source",
   "name": "R",
   "pygments_lexer": "r",
   "version": "4.5.0"
  }
 },
 "nbformat": 4,
 "nbformat_minor": 4
}
